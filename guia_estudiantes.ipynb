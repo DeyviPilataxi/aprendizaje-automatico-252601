{
  "nbformat": 4,
  "nbformat_minor": 0,
  "metadata": {
    "colab": {
      "provenance": [],
      "authorship_tag": "ABX9TyNOzVx54P4zlnGKPCmtHbGo",
      "include_colab_link": true
    },
    "kernelspec": {
      "name": "python3",
      "display_name": "Python 3"
    },
    "language_info": {
      "name": "python"
    }
  },
  "cells": [
    {
      "cell_type": "markdown",
      "metadata": {
        "id": "view-in-github",
        "colab_type": "text"
      },
      "source": [
        "<a href=\"https://colab.research.google.com/github/SandraNavarrete-docente/aprendizaje-automatico-252601/blob/main/guia_estudiantes.ipynb\" target=\"_parent\"><img src=\"https://colab.research.google.com/assets/colab-badge.svg\" alt=\"Open In Colab\"/></a>"
      ]
    },
    {
      "cell_type": "markdown",
      "source": [
        "# 🎓 Guía para Estudiantes - Aprendizaje Automático\n",
        "\n",
        "Bienvenidos. Esta guía explica cómo trabajar con los ejercicios."
      ],
      "metadata": {
        "id": "qhcLFFsualzt"
      }
    },
    {
      "cell_type": "markdown",
      "source": [
        "# Configuración inicial de Colab"
      ],
      "metadata": {
        "id": "8TS9kGAla0TX"
      }
    },
    {
      "cell_type": "code",
      "execution_count": 8,
      "metadata": {
        "colab": {
          "base_uri": "https://localhost:8080/"
        },
        "id": "BDfdS-riaONP",
        "outputId": "433ee795-2d16-4f2e-c842-26c2b4c99d5f"
      },
      "outputs": [
        {
          "output_type": "stream",
          "name": "stdout",
          "text": [
            "Drive already mounted at /content/drive; to attempt to forcibly remount, call drive.mount(\"/content/drive\", force_remount=True).\n",
            "✅ Google Drive configurado correctamente\n",
            "📁 Tu espacio de trabajo: /content/drive/MyDrive/Colab Notebooks/AAutomatico2025/\n"
          ]
        }
      ],
      "source": [
        "\n",
        "from google.colab import drive\n",
        "import os\n",
        "import sys\n",
        "\n",
        "drive.mount('/content/drive')\n",
        "BASE_FOLDER = \"/content/drive/MyDrive/Colab Notebooks/AAutomatico2025/\"\n",
        "sys.path.append(BASE_FOLDER)\n",
        "\n",
        "if not os.path.exists(BASE_FOLDER):\n",
        "    os.makedirs(BASE_FOLDER)\n",
        "\n",
        "print(\"✅ Google Drive configurado correctamente\")\n",
        "print(f\"📁 Tu espacio de trabajo: {BASE_FOLDER}\")"
      ]
    },
    {
      "cell_type": "markdown",
      "source": [
        "# Clonar el repositorio del curso\n",
        "📥 Obtener los ejercicios de los talleres"
      ],
      "metadata": {
        "id": "mtDSIT5dbUg_"
      }
    },
    {
      "cell_type": "code",
      "source": [
        "!git clone https://github.com/SandraNavarrete-docente/aprendizaje-automatico-252601.git\n",
        "\n",
        "# Navegar al directorio del curso\n",
        "#os.chdir('/content/aprendizaje-automatico-2526')\n",
        "\n",
        "print(\"✅ Repositorio del curso descargado\")\n",
        "!ls -la"
      ],
      "metadata": {
        "colab": {
          "base_uri": "https://localhost:8080/"
        },
        "id": "o-oTTDedbTnr",
        "outputId": "9e8ea2b8-717c-4be8-90f5-405e3343b5f8"
      },
      "execution_count": 9,
      "outputs": [
        {
          "output_type": "stream",
          "name": "stdout",
          "text": [
            "fatal: destination path 'aprendizaje-automatico-252601' already exists and is not an empty directory.\n",
            "✅ Repositorio del curso descargado\n",
            "total 24\n",
            "drwxr-xr-x 1 root root 4096 Oct 26 21:32 .\n",
            "drwxr-xr-x 1 root root 4096 Oct 26 21:23 ..\n",
            "drwxr-xr-x 3 root root 4096 Oct 26 21:32 aprendizaje-automatico-252601\n",
            "drwxr-xr-x 4 root root 4096 Oct 23 13:40 .config\n",
            "drwx------ 5 root root 4096 Oct 26 21:25 drive\n",
            "drwxr-xr-x 1 root root 4096 Oct 23 13:40 sample_data\n"
          ]
        }
      ]
    },
    {
      "cell_type": "markdown",
      "source": [
        "# Estructura de un ejercicio típico\n",
        "## 🏗️ Cómo trabajar en un ejercicio\n",
        "\n",
        "1. **Abrir el notebook** del ejercicio desde esta carpeta\n",
        "2. **Seguir las instrucciones** paso a paso\n",
        "3. **Completar** las celdas marcadas con \"TODO\"\n",
        "4. **Probar** que tu solución funciona\n",
        "5. **Guardar** en tu Drive y **entregar** vía GitHub"
      ],
      "metadata": {
        "id": "H356mYducrhC"
      }
    },
    {
      "cell_type": "markdown",
      "source": [
        "# Configuración de Git para entregas\n",
        "## 📤 Entregar ejercicios vía GitHub\n",
        "\n"
      ],
      "metadata": {
        "id": "51vmDQMCdG8_"
      }
    },
    {
      "cell_type": "code",
      "source": [
        "# Configurar Git (cada estudiante pone SUS datos)\n",
        "!git config --global user.name \"Nombre Estudiante\"\n",
        "!git config --global user.email \"email@estudiante.edu\"\n",
        "\n",
        "print(\"\"\"\n",
        "📋 Pasos para entregar:\n",
        "\n",
        "1. Hacer FORK del repositorio principal\n",
        "2. CLONAR tu fork personal\n",
        "3. Completar los ejercicios\n",
        "4. COMMIT y PUSH de tus cambios\n",
        "5. Abrir PULL REQUEST para revisión\n",
        "\n",
        "🔗 Enlace al repositorio: https://github.com/tu-usuario/aprendizaje-automatico-2024\n",
        "\"\"\")"
      ],
      "metadata": {
        "colab": {
          "base_uri": "https://localhost:8080/"
        },
        "id": "Z9u7xO1_eL3P",
        "outputId": "9cc8bbff-3a34-4446-a340-b11c5249ec83"
      },
      "execution_count": 5,
      "outputs": [
        {
          "output_type": "stream",
          "name": "stdout",
          "text": [
            "\n",
            "📋 Pasos para entregar:\n",
            "\n",
            "1. Hacer **FORK** del repositorio principal\n",
            "2. **CLONAR** tu fork personal\n",
            "3. Completar los ejercicios\n",
            "4. **COMMIT** y **PUSH** de tus cambios\n",
            "5. Abrir **PULL REQUEST** para revisión\n",
            "\n",
            "🔗 Enlace al repositorio: https://github.com/tu-usuario/aprendizaje-automatico-2024\n",
            "\n"
          ]
        }
      ]
    },
    {
      "cell_type": "code",
      "source": [],
      "metadata": {
        "id": "kIbne0Ixd-Qm"
      },
      "execution_count": null,
      "outputs": []
    }
  ]
}