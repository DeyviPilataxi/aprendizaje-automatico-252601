{
  "nbformat": 4,
  "nbformat_minor": 0,
  "metadata": {
    "colab": {
      "provenance": [],
      "authorship_tag": "ABX9TyNqkqhVmSGY+21QTeBllTLW",
      "include_colab_link": true
    },
    "kernelspec": {
      "name": "python3",
      "display_name": "Python 3"
    },
    "language_info": {
      "name": "python"
    }
  },
  "cells": [
    {
      "cell_type": "markdown",
      "metadata": {
        "id": "view-in-github",
        "colab_type": "text"
      },
      "source": [
        "<a href=\"https://colab.research.google.com/github/SandraNavarrete-docente/aprendizaje-automatico-252601/blob/main/guia_estudiantes.ipynb\" target=\"_parent\"><img src=\"https://colab.research.google.com/assets/colab-badge.svg\" alt=\"Open In Colab\"/></a>"
      ]
    },
    {
      "cell_type": "markdown",
      "source": [
        "# 🎓 Guía para Estudiantes - Aprendizaje Automático\n",
        "\n",
        "Bienvenidos. Esta guía explica cómo trabajar con los ejercicios."
      ],
      "metadata": {
        "id": "qhcLFFsualzt"
      }
    },
    {
      "cell_type": "markdown",
      "source": [
        "# 1. Configuración inicial de Colab y Clonar el repositorio\n",
        "📥 Obtener los ejercicios de los talleres"
      ],
      "metadata": {
        "id": "mtDSIT5dbUg_"
      }
    },
    {
      "cell_type": "code",
      "source": [
        "from google.colab import drive\n",
        "import os\n",
        "import shutil\n",
        "\n",
        "# Montar Drive\n",
        "drive.mount('/content/drive')\n",
        "\n",
        "# Configuración\n",
        "CURSO = \"AprendAutomatico2025\"\n",
        "BASE_FOLDER = \"/content/drive/MyDrive/Colab Notebooks\"\n",
        "REPO_URL = \"https://github.com/SandraNavarrete-docente/aprendizaje-automatico-252601.git\"\n",
        "RUTA_CURSO = os.path.join(BASE_FOLDER, CURSO)\n",
        "\n",
        "# Asegurar que existe el directorio base\n",
        "os.makedirs(BASE_FOLDER, exist_ok=True)\n",
        "\n",
        "# Limpiar si existe\n",
        "if os.path.exists(RUTA_CURSO):\n",
        "    shutil.rmtree(RUTA_CURSO)\n",
        "\n",
        "# Clonar repositorio\n",
        "!git clone {REPO_URL} \"{RUTA_CURSO}\"\n",
        "\n",
        "# Cambiar directorio y verificar\n",
        "os.chdir(RUTA_CURSO)\n",
        "print(f\"✅ Curso listo en: {os.getcwd()}\")\n",
        "print(\"📁 Archivos disponibles:\")\n",
        "!ls -la"
      ],
      "metadata": {
        "colab": {
          "base_uri": "https://localhost:8080/"
        },
        "id": "o-oTTDedbTnr",
        "outputId": "5fc97168-ef61-400f-88ee-e5d2cc0af807"
      },
      "execution_count": 20,
      "outputs": [
        {
          "output_type": "stream",
          "name": "stdout",
          "text": [
            "Drive already mounted at /content/drive; to attempt to forcibly remount, call drive.mount(\"/content/drive\", force_remount=True).\n",
            "Cloning into '/content/drive/MyDrive/Colab Notebooks/AprendAutomatico2025'...\n",
            "remote: Enumerating objects: 15, done.\u001b[K\n",
            "remote: Counting objects: 100% (15/15), done.\u001b[K\n",
            "remote: Compressing objects: 100% (13/13), done.\u001b[K\n",
            "remote: Total 15 (delta 2), reused 0 (delta 0), pack-reused 0 (from 0)\u001b[K\n",
            "Receiving objects: 100% (15/15), 126.28 KiB | 2.81 MiB/s, done.\n",
            "Resolving deltas: 100% (2/2), done.\n",
            "✅ Curso listo en: /content/drive/MyDrive/Colab Notebooks/AprendAutomatico2025\n",
            "📁 Archivos disponibles:\n",
            "total 256\n",
            "-rw------- 1 root root 245448 Oct 26 22:38 ExplorarTitanic.ipynb\n",
            "drwx------ 8 root root   4096 Oct 26 22:38 .git\n",
            "-rw------- 1 root root   6648 Oct 26 22:38 guia_estudiantes.ipynb\n",
            "-rw------- 1 root root    725 Oct 26 22:38 Readme.md\n",
            "drwx------ 2 root root   4096 Oct 26 22:38 unidad-2\n"
          ]
        }
      ]
    },
    {
      "cell_type": "markdown",
      "source": [
        "# Estructura de un ejercicio típico\n",
        "## 🏗️ Cómo trabajar en un ejercicio\n",
        "\n",
        "1. **Abrir el notebook** del ejercicio desde esta carpeta\n",
        "2. **Seguir las instrucciones** paso a paso\n",
        "3. **Completar** las celdas marcadas con \"TODO\"\n",
        "4. **Probar** que tu solución funciona\n",
        "5. **Guardar** en tu Drive y **entregar** vía GitHub"
      ],
      "metadata": {
        "id": "H356mYducrhC"
      }
    },
    {
      "cell_type": "markdown",
      "source": [
        "# Configuración de Git para entregas\n",
        "## 📤 Entregar ejercicios vía GitHub\n",
        "\n"
      ],
      "metadata": {
        "id": "51vmDQMCdG8_"
      }
    },
    {
      "cell_type": "code",
      "source": [
        "# Configurar Git (cada estudiante pone SUS datos)\n",
        "!git config --global user.name \"Nombre Estudiante\"\n",
        "!git config --global user.email \"email@estudiante.edu\"\n",
        "\n",
        "print(\"\"\"\n",
        "📋 Pasos para entregar:\n",
        "\n",
        "1. Hacer FORK del repositorio principal\n",
        "2. CLONAR tu fork personal\n",
        "3. Completar los ejercicios\n",
        "4. COMMIT y PUSH de tus cambios\n",
        "5. Abrir PULL REQUEST para revisión\n",
        "\n",
        "🔗 Enlace al repositorio: https://github.com/tu-usuario/aprendizaje-automatico-2024\n",
        "\"\"\")"
      ],
      "metadata": {
        "colab": {
          "base_uri": "https://localhost:8080/"
        },
        "id": "Z9u7xO1_eL3P",
        "outputId": "9cc8bbff-3a34-4446-a340-b11c5249ec83"
      },
      "execution_count": null,
      "outputs": [
        {
          "output_type": "stream",
          "name": "stdout",
          "text": [
            "\n",
            "📋 Pasos para entregar:\n",
            "\n",
            "1. Hacer **FORK** del repositorio principal\n",
            "2. **CLONAR** tu fork personal\n",
            "3. Completar los ejercicios\n",
            "4. **COMMIT** y **PUSH** de tus cambios\n",
            "5. Abrir **PULL REQUEST** para revisión\n",
            "\n",
            "🔗 Enlace al repositorio: https://github.com/tu-usuario/aprendizaje-automatico-2024\n",
            "\n"
          ]
        }
      ]
    },
    {
      "cell_type": "code",
      "source": [],
      "metadata": {
        "id": "kIbne0Ixd-Qm"
      },
      "execution_count": null,
      "outputs": []
    }
  ]
}