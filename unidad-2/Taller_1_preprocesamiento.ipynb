{
  "nbformat": 4,
  "nbformat_minor": 0,
  "metadata": {
    "colab": {
      "provenance": [],
      "authorship_tag": "ABX9TyO+zOCjiatD47agD3nmh+Sk",
      "include_colab_link": true
    },
    "kernelspec": {
      "name": "python3",
      "display_name": "Python 3"
    },
    "language_info": {
      "name": "python"
    }
  },
  "cells": [
    {
      "cell_type": "markdown",
      "metadata": {
        "id": "view-in-github",
        "colab_type": "text"
      },
      "source": [
        "<a href=\"https://colab.research.google.com/github/SandraNavarrete-docente/aprendizaje-automatico-252601/blob/main/unidad-2/Taller_1_preprocesamiento.ipynb\" target=\"_parent\"><img src=\"https://colab.research.google.com/assets/colab-badge.svg\" alt=\"Open In Colab\"/></a>"
      ]
    },
    {
      "cell_type": "markdown",
      "source": [
        "# 🧠 Ejercicio 1: Preprocesamiento de Datos\n",
        "\n",
        "**Objetivo:** Aprender a cargar y preprocesar datasets en Colab\n",
        "\n",
        "**Instrucciones:**\n",
        "1. Completa las celdas marcadas con \"TODO\"\n",
        "2. Ejecuta todas las celdas\n",
        "3. Verifica que pasas los tests"
      ],
      "metadata": {
        "id": "AaGKq8jqhQW5"
      }
    },
    {
      "cell_type": "code",
      "source": [
        "# Celda 2: Configuración inicial\n",
        "from google.colab import drive\n",
        "import pandas as pd\n",
        "import numpy as np\n",
        "\n",
        "# Montar Drive\n",
        "drive.mount('/content/drive')\n",
        "\n",
        "print(\"✅ Entorno configurado\")"
      ],
      "metadata": {
        "colab": {
          "base_uri": "https://localhost:8080/"
        },
        "id": "Qi7VqMi9heBQ",
        "outputId": "c4164413-d77b-483e-e5b1-bb85affe0490"
      },
      "execution_count": 2,
      "outputs": [
        {
          "output_type": "stream",
          "name": "stdout",
          "text": [
            "Mounted at /content/drive\n",
            "✅ Entorno configurado\n"
          ]
        }
      ]
    },
    {
      "cell_type": "code",
      "source": [
        "# Cargar datos\n",
        "\"\"\"\n",
        "## 📊 Cargar Dataset desde Drive\n",
        "\"\"\"\n",
        "\n",
        "# TODO: Reemplaza con la ruta a TU dataset en Drive\n",
        "dataset_path = '/content/drive/MyDrive/.../tu_dataset.csv'  # ← COMPLETAR\n",
        "\n",
        "# Cargar datos\n",
        "# datos = pd.read_csv(dataset_path)  # Descomenta y completa\n",
        "\n",
        "print(\"📁 Carga tu dataset en la línea anterior\")"
      ],
      "metadata": {
        "colab": {
          "base_uri": "https://localhost:8080/"
        },
        "id": "5LM86zifhtox",
        "outputId": "9fb62751-fad3-4c2d-b57a-6e01479d3876"
      },
      "execution_count": 4,
      "outputs": [
        {
          "output_type": "stream",
          "name": "stdout",
          "text": [
            "📁 Carga tu dataset en la línea anterior\n"
          ]
        }
      ]
    },
    {
      "cell_type": "code",
      "source": [
        "# Celda 4: Función para completar\n",
        "\"\"\"\n",
        "## 🛠️ Ejercicio: Función de Normalización\n",
        "\"\"\"\n",
        "\n",
        "def normalizar_columna(columna):\n",
        "    \"\"\"\n",
        "    Normaliza una columna numérica a rango [0, 1]\n",
        "\n",
        "    Args:\n",
        "        columna: Serie de pandas con valores numéricos\n",
        "\n",
        "    Returns:\n",
        "        Serie normalizada\n",
        "    \"\"\"\n",
        "    # TODO: Completa esta función\n",
        "    # Debe retornar la columna normalizada\n",
        "    return columna  # ← REEMPLAZAR ESTO\n",
        "\n",
        "print(\"🧩 Completa la función de normalización\")"
      ],
      "metadata": {
        "colab": {
          "base_uri": "https://localhost:8080/"
        },
        "id": "6tBK3btyh320",
        "outputId": "4e1f96a8-84d5-424b-98a4-865dff9e49bb"
      },
      "execution_count": 5,
      "outputs": [
        {
          "output_type": "stream",
          "name": "stdout",
          "text": [
            "🧩 Completa la función de normalización\n"
          ]
        }
      ]
    },
    {
      "cell_type": "code",
      "source": [
        "# Celda 5: Tests\n",
        "\"\"\"\n",
        "## ✅ Verificar tu solución\n",
        "\"\"\"\n",
        "\n",
        "# Test básico\n",
        "def test_normalizacion():\n",
        "    # Datos de prueba\n",
        "    test_data = pd.Series([10, 20, 30, 40, 50])\n",
        "\n",
        "    # Tu función\n",
        "    resultado = normalizar_columna(test_data)\n",
        "\n",
        "    # Verificar\n",
        "    assert resultado.min() == 0, \"El mínimo debe ser 0\"\n",
        "    assert resultado.max() == 1, \"El máximo debe ser 1\"\n",
        "    assert len(resultado) == 5, \"Debe mantener misma longitud\"\n",
        "\n",
        "    print(\"🎉 ¡Todos los tests pasaron!\")\n",
        "    print(\"Valores normalizados:\", resultado.values)\n",
        "\n",
        "# Ejecutar test (debe fallar hasta que completes la función)\n",
        "try:\n",
        "    test_normalizacion()\n",
        "except Exception as e:\n",
        "    print(f\"❌ Error: {e}\")\n",
        "    print(\"💡 Completa la función para pasar el test\")"
      ],
      "metadata": {
        "colab": {
          "base_uri": "https://localhost:8080/"
        },
        "id": "bHt5zk4riAAA",
        "outputId": "9f49a77a-fa63-4292-b3c8-d328ac7b39dc"
      },
      "execution_count": 6,
      "outputs": [
        {
          "output_type": "stream",
          "name": "stdout",
          "text": [
            "❌ Error: El mínimo debe ser 0\n",
            "💡 Completa la función para pasar el test\n"
          ]
        }
      ]
    },
    {
      "cell_type": "code",
      "source": [
        "# Celda 6: Entrega\n",
        "\"\"\"\n",
        "## 📤 Preparar entrega\n",
        "\"\"\"\n",
        "\n",
        "# Guardar trabajo\n",
        "from google.colab import files\n",
        "\n",
        "print(\"\"\"\n",
        "📋 Para entregar:\n",
        "\n",
        "1. **Asegúrate** de que todo funciona\n",
        "2. **Guarda** este notebook en tu Drive\n",
        "3. **Sigue** la guía de entrega en `guia-estudiantes.ipynb`\n",
        "\n",
        "¡Buen trabajo! 🚀\n",
        "\"\"\")"
      ],
      "metadata": {
        "colab": {
          "base_uri": "https://localhost:8080/"
        },
        "id": "j0ifF2nWiGDI",
        "outputId": "482f6e24-80c0-4e12-eb0b-18e91e245d56"
      },
      "execution_count": 7,
      "outputs": [
        {
          "output_type": "stream",
          "name": "stdout",
          "text": [
            "\n",
            "📋 Para entregar:\n",
            "\n",
            "1. **Asegúrate** de que todo funciona\n",
            "2. **Guarda** este notebook en tu Drive\n",
            "3. **Sigue** la guía de entrega en `guia-estudiantes.ipynb`\n",
            "\n",
            "¡Buen trabajo! 🚀\n",
            "\n"
          ]
        }
      ]
    }
  ]
}