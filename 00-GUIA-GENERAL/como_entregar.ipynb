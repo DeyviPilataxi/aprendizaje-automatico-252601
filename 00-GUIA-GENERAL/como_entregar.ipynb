{
  "nbformat": 4,
  "nbformat_minor": 0,
  "metadata": {
    "colab": {
      "provenance": [],
      "authorship_tag": "ABX9TyNfcyRypPkUBY3duWzn7+D+",
      "include_colab_link": true
    },
    "kernelspec": {
      "name": "python3",
      "display_name": "Python 3"
    },
    "language_info": {
      "name": "python"
    }
  },
  "cells": [
    {
      "cell_type": "markdown",
      "metadata": {
        "id": "view-in-github",
        "colab_type": "text"
      },
      "source": [
        "<a href=\"https://colab.research.google.com/github/SandraNavarrete-docente/aprendizaje-automatico-252601/blob/main/00-GUIA-GENERAL/como_entregar.ipynb\" target=\"_parent\"><img src=\"https://colab.research.google.com/assets/colab-badge.svg\" alt=\"Open In Colab\"/></a>"
      ]
    },
    {
      "cell_type": "markdown",
      "source": [
        "# 📤 Sistema de Entregas por Tema\n",
        "\n",
        "**Flujo recomendado:**\n",
        "1. Descargar tema específico\n",
        "2. Trabajar en los talleres\n",
        "3. Entregar solo los talleres completados del tema"
      ],
      "metadata": {
        "id": "XRStHJFz5zZO"
      }
    },
    {
      "cell_type": "code",
      "execution_count": null,
      "metadata": {
        "id": "ovutxkpb5vzO"
      },
      "outputs": [],
      "source": [
        "def preparar_entrega(tema_numero, talleres_completados):\n",
        "    \"\"\"Prepara archivos para entrega de tema específico\"\"\"\n",
        "\n",
        "    tema_folder = f\"{tema_numero:02d}-*\"\n",
        "    carpeta_entrega = f\"entregas-tema-{tema_numero}\"\n",
        "\n",
        "    # Crear carpeta de entrega\n",
        "    os.makedirs(carpeta_entrega, exist_ok=True)\n",
        "\n",
        "    # Copiar talleres completados\n",
        "    for taller in talleres_completados:\n",
        "        if os.path.exists(taller):\n",
        "            shutil.copy2(taller, carpeta_entrega)\n",
        "            print(f\"✅ Agregado: {taller}\")\n",
        "        else:\n",
        "            print(f\"❌ No encontrado: {taller}\")\n",
        "\n",
        "    # Crear archivo de información\n",
        "    info_entrega = {\n",
        "        \"estudiante\": \"NOMBRE_DEL_ESTUDIANTE\",\n",
        "        \"tema\": tema_numero,\n",
        "        \"fecha\": \"2025-01-01\",\n",
        "        \"talleres\": talleres_completados\n",
        "    }\n",
        "\n",
        "    with open(f\"{carpeta_entrega}/info-entrega.txt\", \"w\") as f:\n",
        "        for key, value in info_entrega.items():\n",
        "            f.write(f\"{key}: {value}\\n\")\n",
        "\n",
        "    print(f\"📦 Entrega preparada en: {carpeta_entrega}/\")\n",
        "    return carpeta_entrega\n",
        "\n"
      ]
    },
    {
      "cell_type": "code",
      "source": [
        "# Ejemplo de uso\n",
        "print(\"\"\"\n",
        "📋 Ejemplo de entrega para Tema 1:\n",
        "\n",
        "talleres = [\n",
        "    \"01-INTRODUCCION-ML/taller-1-conceptos-basicos.ipynb\",\n",
        "    \"01-INTRODUCCION-ML/taller-1-analisis-exploratorio.ipynb\"\n",
        "]\n",
        "\n",
        "# carpeta_entrega = preparar_entrega(1, talleros)\n",
        "\"\"\")"
      ],
      "metadata": {
        "id": "cKXGAkcn5-UU"
      },
      "execution_count": null,
      "outputs": []
    }
  ]
}