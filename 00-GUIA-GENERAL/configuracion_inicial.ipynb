{
  "nbformat": 4,
  "nbformat_minor": 0,
  "metadata": {
    "colab": {
      "provenance": [],
      "authorship_tag": "ABX9TyPh8nI1LZBUS5/2RNuKlfGZ",
      "include_colab_link": true
    },
    "kernelspec": {
      "name": "python3",
      "display_name": "Python 3"
    },
    "language_info": {
      "name": "python"
    }
  },
  "cells": [
    {
      "cell_type": "markdown",
      "metadata": {
        "id": "view-in-github",
        "colab_type": "text"
      },
      "source": [
        "<a href=\"https://colab.research.google.com/github/SandraNavarrete-docente/aprendizaje-automatico-252601/blob/main/00-GUIA-GENERAL%5Cconfiguracion_inicial.ipynb\" target=\"_parent\"><img src=\"https://colab.research.google.com/assets/colab-badge.svg\" alt=\"Open In Colab\"/></a>"
      ]
    },
    {
      "cell_type": "markdown",
      "source": [
        "# 🎓 Configuración Inicial\n",
        "\n",
        "**Importante:** No necesitas descargar todo el curso completo.\n",
        "Puedes acceder tema por tema según se vayan publicando."
      ],
      "metadata": {
        "id": "w83ePPUMu01x"
      }
    },
    {
      "cell_type": "code",
      "execution_count": null,
      "metadata": {
        "colab": {
          "base_uri": "https://localhost:8080/"
        },
        "id": "R-CCkS3cuzEC",
        "outputId": "249190d7-9ffc-4ebe-8959-462ee4fb8e52"
      },
      "outputs": [
        {
          "output_type": "stream",
          "name": "stdout",
          "text": [
            "Mounted at /content/drive\n",
            "📥 Clonando repositorio completo...\n",
            "Cloning into '/content/drive/MyDrive/Colab Notebooks/AprendizajeAutomatico2025'...\n",
            "remote: Enumerating objects: 20, done.\u001b[K\n",
            "remote: Counting objects: 100% (20/20), done.\u001b[K\n",
            "remote: Compressing objects: 100% (18/18), done.\u001b[K\n",
            "remote: Total 20 (delta 5), reused 0 (delta 0), pack-reused 0 (from 0)\u001b[K\n",
            "Receiving objects: 100% (20/20), 128.20 KiB | 4.93 MiB/s, done.\n",
            "Resolving deltas: 100% (5/5), done.\n",
            "✅ Configuración completada\n",
            "📁 Estructura del curso:\n"
          ]
        }
      ],
      "source": [
        "from google.colab import drive\n",
        "import os\n",
        "import shutil\n",
        "\n",
        "# Configuración\n",
        "drive.mount('/content/drive')\n",
        "CURSO = \"AprendizajeAutomatico2025\"\n",
        "BASE_FOLDER = \"/content/drive/MyDrive/Colab Notebooks\"\n",
        "REPO_URL = \"https://github.com/SandraNavarrete-docente/aprendizaje-automatico-252601.git\"\n",
        "RUTA_CURSO = os.path.join(BASE_FOLDER, CURSO)\n",
        "\n",
        "# Crear directorio\n",
        "os.makedirs(BASE_FOLDER, exist_ok=True)\n",
        "\n",
        "# Clonar o actualizar repositorio\n",
        "if os.path.exists(RUTA_CURSO):\n",
        "    print(\"🔄 Actualizando repositorio existente...\")\n",
        "    os.chdir(RUTA_CURSO)\n",
        "    !git pull origin main\n",
        "else:\n",
        "    print(\"📥 Clonando repositorio completo...\")\n",
        "    !git clone {REPO_URL} \"{RUTA_CURSO}\"\n",
        "    os.chdir(RUTA_CURSO)\n",
        "\n",
        "print(\"✅ Configuración completada\")\n",
        "print(\"📁 Estructura del curso:\")\n",
        "!find . -type d -name \"*.ipynb\" | head -10"
      ]
    }
  ]
}
