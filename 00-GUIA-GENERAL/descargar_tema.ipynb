{
  "nbformat": 4,
  "nbformat_minor": 0,
  "metadata": {
    "colab": {
      "provenance": [],
      "authorship_tag": "ABX9TyPZ5uMscd0ESdPETppffYqL",
      "include_colab_link": true
    },
    "kernelspec": {
      "name": "python3",
      "display_name": "Python 3"
    },
    "language_info": {
      "name": "python"
    }
  },
  "cells": [
    {
      "cell_type": "markdown",
      "metadata": {
        "id": "view-in-github",
        "colab_type": "text"
      },
      "source": [
        "<a href=\"https://colab.research.google.com/github/SandraNavarrete-docente/aprendizaje-automatico-252601/blob/main/00-GUIA-GENERAL/descargar_tema.ipynb\" target=\"_parent\"><img src=\"https://colab.research.google.com/assets/colab-badge.svg\" alt=\"Open In Colab\"/></a>"
      ]
    },
    {
      "cell_type": "markdown",
      "source": [
        "# 📥 Descargar Tema Específico\n",
        "\n",
        "Usa esta guía para descargar solo los temas que necesites o ya esten disponibles."
      ],
      "metadata": {
        "id": "AvV90enqvw2N"
      }
    },
    {
      "cell_type": "code",
      "execution_count": 1,
      "metadata": {
        "id": "2-PRyMmvvtCW"
      },
      "outputs": [],
      "source": [
        "def descargar_tema(numero_tema, nombre_tema):\n",
        "    \"\"\"Descarga un tema específico del curso\"\"\"\n",
        "\n",
        "    tema_folder = f\"{numero_tema:02d}-{nombre_tema.upper().replace(' ', '-')}\"\n",
        "    archivos_tema = []\n",
        "\n",
        "    print(f\"📚 Buscando archivos del tema: {tema_folder}\")\n",
        "\n",
        "    # Listar archivos del tema\n",
        "    for root, dirs, files in os.walk('.'):\n",
        "        if tema_folder in root:\n",
        "            for file in files:\n",
        "                if file.endswith('.ipynb'):\n",
        "                    archivo_completo = os.path.join(root, file)\n",
        "                    archivos_tema.append(archivo_completo)\n",
        "\n",
        "    if archivos_tema:\n",
        "        print(f\"✅ Encontrados {len(archivos_tema)} archivos:\")\n",
        "        for archivo in archivos_tema:\n",
        "            print(f\"   📄 {archivo}\")\n",
        "\n",
        "        # Copiar a Drive del estudiante\n",
        "        destino = f\"/content/drive/MyDrive/{tema_folder}\"\n",
        "        os.makedirs(destino, exist_ok=True)\n",
        "\n",
        "        for archivo in archivos_tema:\n",
        "            shutil.copy2(archivo, destino)\n",
        "\n",
        "        print(f\"📁 Archivos copiados a: {destino}\")\n",
        "        return destino\n",
        "    else:\n",
        "        print(\"❌ No se encontraron archivos para este tema\")\n",
        "        return None\n"
      ]
    },
    {
      "cell_type": "code",
      "source": [
        "# Ejemplo de uso\n",
        "print(\"\"\"\n",
        "🎯 Temas disponibles:\n",
        "01 - INTRODUCCION-ML\n",
        "02 - PREPROCESAMIENTO\n",
        "03 - MODELOS-SUPERVISADOS\n",
        "\"\"\")\n",
        "\n",
        "# Para descargar un tema específico:\n",
        "destino = descargar_tema(1, \"INTRODUCCION-ML\")"
      ],
      "metadata": {
        "id": "08ngs0325Mk-"
      },
      "execution_count": null,
      "outputs": []
    }
  ]
}